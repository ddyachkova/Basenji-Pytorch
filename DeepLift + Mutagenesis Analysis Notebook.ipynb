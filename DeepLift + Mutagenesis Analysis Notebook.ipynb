{
 "cells": [
  {
   "cell_type": "code",
   "execution_count": 1,
   "id": "266a8e62",
   "metadata": {},
   "outputs": [],
   "source": [
    "import numpy as np\n",
    "import random\n",
    "import os \n",
    "import torch\n",
    "import torch.nn as nn\n",
    "from torch import Tensor\n",
    "import torch.optim as optim\n",
    "from torch.utils.data import Dataset, DataLoader, SubsetRandomSampler, ConcatDataset\n",
    "import torch.nn.functional as F\n",
    "from torch.cuda.amp.grad_scaler import GradScaler\n",
    "from torch.cuda.amp import autocast\n",
    "\n",
    "from torchsummary import summary\n",
    "from sklearn.metrics import r2_score\n",
    "\n",
    "from ray import tune\n",
    "\n",
    "import json\n",
    "import itertools\n",
    "from itertools import groupby\n",
    "import gzip \n",
    "from io import BytesIO\n",
    "from time import time \n",
    "\n",
    "import matplotlib.pyplot as plt\n",
    "\n",
    "# import pyBigWig\n",
    "from scipy.sparse import csc_matrix\n",
    "import math \n",
    "\n",
    "import torch.cuda.amp as amp\n",
    "\n",
    "import functools\n",
    "\n",
    "import captum \n",
    "from captum.attr import DeepLift, DeepLiftShap\n",
    "# import seaborn as sns\n",
    "from sklearn.metrics import confusion_matrix, precision_score, f1_score\n",
    "\n",
    "from copy import deepcopy"
   ]
  },
  {
   "cell_type": "code",
   "execution_count": 2,
   "id": "32be34d3",
   "metadata": {},
   "outputs": [],
   "source": [
    "from modules import * "
   ]
  },
  {
   "cell_type": "markdown",
   "id": "115972ab",
   "metadata": {},
   "source": [
    "To run a classification, we need to update the last block in the model (conv_block_5). Pytorch's cross entropy loss accepts logits as input, so we need the model's very last layer to be linear. \n",
    "I tried to update the conv_block_5 attribute using class inheritannce and attribute overriding, but it did not work for me. "
   ]
  },
  {
   "cell_type": "code",
   "execution_count": 3,
   "id": "5ba5d5c6",
   "metadata": {},
   "outputs": [],
   "source": [
    "class upd_GELU(nn.Module):\n",
    "    def forward(self, input: Tensor) -> Tensor:\n",
    "        return torch.sigmoid(torch.Tensor([1.702]).cuda() * input) * input\n",
    "\n",
    "def ones_(tensor: Tensor) -> Tensor:\n",
    "    return torch.ones_like(tensor)\n",
    "\n",
    "def zeros_(tensor: Tensor) -> Tensor:\n",
    "    return torch.zeros_like(tensor)\n",
    "\n",
    "class BasenjiModel_Classif(nn.Module):\n",
    "    def __init__(self, num_targets, n_channel=4, max_len=128, \n",
    "                 conv1kc=64, conv1ks=15, conv1st=1, conv1pd=7, pool1ks=8, pool1st=1 , pdrop1=0.4, #conv_block_1 parameters\n",
    "                 conv2kc=64, conv2ks=5, conv2st=1, conv2pd=3, pool2ks=4 , pool2st=1, pdrop2=0.4, #conv_block_2 parameters\n",
    "                 conv3kc=round(64*1.125), conv3ks=5, conv3st=1, conv3pd=3, pool3ks=4 , pool3st=1, pdrop3=0.4, #conv_block_2 parameters\n",
    "                 convdc = 6, convdkc=32 , convdks=3, debug=False):                 \n",
    "        super(BasenjiModel_Classif, self).__init__()\n",
    "        \n",
    "        self.convdc = convdc\n",
    "        self.debug = debug\n",
    "        self.num_targets =  num_targets\n",
    "        ## CNN + dilated CNN\n",
    "        \n",
    "        self.conv_block_1 = nn.Sequential(\n",
    "            upd_GELU(),\n",
    "            nn.Conv1d(n_channel, conv1kc, kernel_size=conv1ks, stride=conv1st, padding=conv1pd, bias=False),\n",
    "            nn.BatchNorm1d(conv1kc, momentum=0.9, affine=True),\n",
    "            nn.MaxPool1d(kernel_size=pool1ks),\n",
    "            nn.Dropout(p=0.2))\n",
    "                \n",
    "        self.conv_block_2 = nn.Sequential(\n",
    "            upd_GELU(),\n",
    "            nn.Conv1d(conv1kc, conv2kc, kernel_size=conv2ks, stride=conv2st, padding=conv2pd, bias=False),\n",
    "            nn.BatchNorm1d(conv2kc, momentum=0.9, affine=True),\n",
    "            nn.MaxPool1d(kernel_size=pool2ks),\n",
    "            nn.Dropout(p=0.2))\n",
    "        \n",
    "        self.conv_block_3 = nn.Sequential(\n",
    "            upd_GELU(),\n",
    "            nn.Conv1d(conv2kc, round(conv2kc*1.125), kernel_size=conv3ks, stride=conv3st, padding=conv3pd, bias=False),\n",
    "            nn.BatchNorm1d(conv3kc, momentum=0.9, affine=True),\n",
    "            nn.MaxPool1d(kernel_size=pool3ks),\n",
    "            nn.Dropout(p=0.2))\n",
    "        \n",
    "\n",
    "        self.dilations = nn.ModuleList()\n",
    "        for i in range(convdc):\n",
    "            padding = 2**(i)\n",
    "            self.dilations.append(nn.Sequential(\n",
    "                upd_GELU(),\n",
    "                nn.Conv1d(conv3kc, 32, kernel_size=3, padding=padding, dilation=2**i, bias=False),\n",
    "                nn.BatchNorm1d(32, momentum=0.9, affine=True), \n",
    "                upd_GELU(),\n",
    "                nn.Conv1d(32, 72, kernel_size=1, padding=0, bias=False),\n",
    "                nn.BatchNorm1d(72, momentum=0.9, affine=True), \n",
    "                nn.Dropout(p=0.25)))\n",
    "            \n",
    "        self.conv_block_4 = nn.Sequential(\n",
    "            upd_GELU(),\n",
    "            nn.Conv1d(72, 64, kernel_size=1, stride=1, padding=0, bias=False),\n",
    "            nn.BatchNorm1d(64, momentum=0.9, affine=True), \n",
    "            nn.Dropout(p=0.1)) \n",
    "            \n",
    "        self.conv_block_5 = nn.Sequential(\n",
    "            upd_GELU(),\n",
    "            nn.Linear(64, self.num_targets, bias=True)) \n",
    "\n",
    "    \n",
    "        self.conv_block_1[1].weight.data = self.truncated_normal(self.conv_block_1[1].weight, 0.0, np.sqrt(2/60)) #4\n",
    "        self.conv_block_2[1].weight.data = self.truncated_normal(self.conv_block_2[1].weight, 0.0, np.sqrt(2/322)) # conv1kc\n",
    "        self.conv_block_3[1].weight.data = self.truncated_normal(self.conv_block_3[1].weight, 0.0, np.sqrt(2/322)) # conv1kc\n",
    "        self.conv_block_4[1].weight.data = self.truncated_normal(self.conv_block_4[1].weight, 0.0, np.sqrt(2/72)) # 72\n",
    "        self.conv_block_5[1].weight.data = self.truncated_normal(self.conv_block_5[1].weight, 0.0, np.sqrt(2/64)) # 64        \n",
    "        self.conv_block_1[2].weight.data = ones_(self.conv_block_1[2].weight)\n",
    "        self.conv_block_2[2].weight.data = ones_(self.conv_block_2[2].weight)\n",
    "        self.conv_block_3[2].weight.data = ones_(self.conv_block_3[2].weight)\n",
    "        self.conv_block_4[2].weight.data = ones_(self.conv_block_4[2].weight)\n",
    "\n",
    "        \n",
    "        for i in range(convdc):\n",
    "            self.dilations[i][1].weight.data = self.truncated_normal(self.dilations[i][1].weight, 0.0, np.sqrt(2/218)) # 72\n",
    "            self.dilations[i][-2].weight.data = self.truncated_normal(self.dilations[i][-2].weight, 0.0, np.sqrt(2/32)) # 32\n",
    "            self.dilations[i][2].weight.data = zeros_(self.dilations[i][2].weight)\n",
    "            self.dilations[i][-2].weight.data = ones_(self.dilations[i][-2].weight)\n",
    "\n",
    "    \n",
    "    def truncated_normal(self, t, mean, std):\n",
    "        torch.nn.init.normal_(t, mean, std)\n",
    "        while True:\n",
    "            cond = torch.logical_or(t < (mean - 2.28*std), t > (mean + 2.28*std))\n",
    "            if not torch.sum(cond):\n",
    "                break\n",
    "            t = torch.where(cond, torch.nn.init.normal_(torch.ones(t.shape), mean=mean, std=std), t)\n",
    "        return t\n",
    "\n",
    "\n",
    "    def forward(self, seq):\n",
    "        if self.debug: \n",
    "            print (seq.shape)\n",
    "        seq = self.conv_block_1(seq)\n",
    "        if self.debug: \n",
    "            print ('conv1', seq.shape)\n",
    "        seq = self.conv_block_2(seq)\n",
    "        if self.debug: \n",
    "            print ('conv2', seq.shape)\n",
    "        seq = self.conv_block_3(seq)\n",
    "        if self.debug: \n",
    "            print ('conv3', seq.shape)\n",
    "        for i in range(self.convdc):\n",
    "            if i == 0:\n",
    "                y = self.dilations[i](seq)\n",
    "            if i >= 1:\n",
    "                y = y.add(self.dilations[i](seq))\n",
    "            if self.debug: \n",
    "                print ('dil', i, self.dilations[i](seq).shape)\n",
    "        if self.debug:\n",
    "            print ('y', y.shape)\n",
    "        res = self.conv_block_4(y)\n",
    "        if self.debug: \n",
    "            print ('res', res.shape)\n",
    "        res_lin = res.transpose(1, 2)\n",
    "        if self.debug: \n",
    "            print ('res_lin', res_lin.shape)\n",
    "        res = self.conv_block_5(res_lin)\n",
    "        if self.debug: \n",
    "            print ('res', res.shape)\n",
    "        return res\n",
    "        \n",
    "    def compile(self, device='cpu'):\n",
    "        self.to(device)"
   ]
  },
  {
   "cell_type": "markdown",
   "id": "a7a24cb1",
   "metadata": {},
   "source": [
    "First step for the analysis is to initialize and load the model, trainer and get the data. "
   ]
  },
  {
   "cell_type": "code",
   "execution_count": 4,
   "id": "d0e055b5",
   "metadata": {},
   "outputs": [],
   "source": [
    "param_vals = { \n",
    "\"mode\" : \"classification\",\n",
    "\"optimizer\" : \"Adam\", \n",
    "\"init_lr\": 0.001, \n",
    "\"optimizer_momentum\": 0.9, \n",
    "\"weight_decay\": 1e-3, \n",
    "\"loss\": \"bce\", \n",
    "\"num_targets\": [1],\n",
    "\"seq_len\": 128*128*8,\n",
    "\"target_window\": 1024*32,\n",
    "\"batch_size\": 1,\n",
    "\"cut\": 0.8,\n",
    "\"num_workers\": 0,\n",
    "\"num_epochs\": 1,\n",
    "}"
   ]
  },
  {
   "cell_type": "code",
   "execution_count": 5,
   "id": "3d29aad4",
   "metadata": {},
   "outputs": [],
   "source": [
    "memmap_data_contigs_dir = '/data/users/goodarzilab/darya/work/Datasets/hg38_memmaps'\n",
    "targets_memmap_data_dir_cl = '/data/users/goodarzilab/darya/work/Datasets/hg38_targets_memmaps_CL.ATAC'\n",
    "targets_memmap_data_dir_pdx = '/data/users/goodarzilab/darya/work/Datasets/hg38_targets_memmaps_PDX.ATAC'"
   ]
  },
  {
   "cell_type": "code",
   "execution_count": 6,
   "id": "100bc9dd",
   "metadata": {},
   "outputs": [],
   "source": [
    "target_files_dir = [targets_memmap_data_dir_cl, targets_memmap_data_dir_pdx]"
   ]
  },
  {
   "cell_type": "code",
   "execution_count": 7,
   "id": "265c8bd0",
   "metadata": {},
   "outputs": [],
   "source": [
    "model = BasenjiModel_Classif(num_targets=1)\n",
    "model.compile('cuda')"
   ]
  },
  {
   "cell_type": "code",
   "execution_count": 8,
   "id": "c9e585d3",
   "metadata": {},
   "outputs": [
    {
     "name": "stdout",
     "output_type": "stream",
     "text": [
      "init dsets\n"
     ]
    }
   ],
   "source": [
    "trainer = Trainer(param_vals, model, memmap_data_contigs_dir, target_files_dir)"
   ]
  },
  {
   "cell_type": "code",
   "execution_count": 9,
   "id": "47bd9f10",
   "metadata": {
    "scrolled": true
   },
   "outputs": [],
   "source": [
    "# trainer = Trainer(param_vals, model, memmap_data_contigs_dir, targets_memmap_data_dir_cl, targets_memmap_data_dir_pdx, mode='classification')"
   ]
  },
  {
   "cell_type": "code",
   "execution_count": 10,
   "id": "672e9870",
   "metadata": {},
   "outputs": [],
   "source": [
    "trainer.load_model(trainer.model, \"basenji_toy_upd_motif_32k_recfield_13epochs.pt\")"
   ]
  },
  {
   "cell_type": "code",
   "execution_count": 11,
   "id": "945b02e8",
   "metadata": {},
   "outputs": [],
   "source": [
    "train_loader, val_loader = trainer.make_loaders(augm=False)"
   ]
  },
  {
   "cell_type": "code",
   "execution_count": 12,
   "id": "fc27f157",
   "metadata": {
    "scrolled": true
   },
   "outputs": [],
   "source": [
    "batch = next(iter(train_loader))\n",
    "X, y = trainer.get_input(batch)"
   ]
  },
  {
   "cell_type": "markdown",
   "id": "8c19af53",
   "metadata": {},
   "source": [
    "Then, for the baseline data, we shuffle out inputs. Since the trainer outputs one-hot incoded data, we reverse that step, randomly permute the values and one-hot encode them again. "
   ]
  },
  {
   "cell_type": "code",
   "execution_count": 13,
   "id": "147da04d",
   "metadata": {},
   "outputs": [],
   "source": [
    "X_ints = torch.argmax(X, dim=1).squeeze()#.cpu()"
   ]
  },
  {
   "cell_type": "code",
   "execution_count": 14,
   "id": "a5d24f81",
   "metadata": {},
   "outputs": [],
   "source": [
    "idx = torch.randperm(X_ints.shape[-1])"
   ]
  },
  {
   "cell_type": "code",
   "execution_count": 15,
   "id": "e09706b7",
   "metadata": {},
   "outputs": [],
   "source": [
    "# X_shuffled = torch.stack([X_ints[i][idx] for i in range(X_ints.shape[0])])\n",
    "# X_shuffled = torch.transpose(F.one_hot(X_shuffled), 2, 1)#.unsqueeze(0)\n",
    "\n",
    "X_shuffled = X_ints[idx]\n",
    "X_shuffled = torch.transpose(F.one_hot(X_shuffled), 1, 0).unsqueeze(0)\n",
    "# X_shuffled = F.one_hot(X_shuffled).unsqueeze(0)"
   ]
  },
  {
   "cell_type": "markdown",
   "id": "22e5c8b3",
   "metadata": {},
   "source": [
    "Next, we use the DeepLift algorithm from the Captum package."
   ]
  },
  {
   "cell_type": "markdown",
   "id": "9f55315c",
   "metadata": {},
   "source": [
    "### DeepLift Algorithm "
   ]
  },
  {
   "cell_type": "code",
   "execution_count": 16,
   "id": "cc494bad",
   "metadata": {
    "scrolled": true
   },
   "outputs": [
    {
     "name": "stderr",
     "output_type": "stream",
     "text": [
      "/data/users/goodarzilab/darya/anaconda3/envs/basenji_pytorch/lib/python3.9/site-packages/captum/_utils/gradient.py:56: UserWarning: Input Tensor 0 did not already require gradients, required_grads has been set automatically.\n",
      "  warnings.warn(\n",
      "/data/users/goodarzilab/darya/anaconda3/envs/basenji_pytorch/lib/python3.9/site-packages/captum/attr/_core/deep_lift.py:320: UserWarning: Setting forward, backward hooks and attributes on non-linear\n",
      "               activations. The hooks and attributes will be removed\n",
      "            after the attribution is finished\n",
      "  warnings.warn(\n",
      "/data/users/goodarzilab/darya/anaconda3/envs/basenji_pytorch/lib/python3.9/site-packages/captum/attr/_core/deep_lift.py:452: UserWarning: An invalid module MaxPool1d(kernel_size=8, stride=8, padding=0, dilation=1, ceil_mode=False) is detected. Saved gradients will\n",
      "                be used as the gradients of the module's input tensor.\n",
      "                See MaxPool1d as an example.\n",
      "  warnings.warn(\n",
      "/data/users/goodarzilab/darya/anaconda3/envs/basenji_pytorch/lib/python3.9/site-packages/torch/nn/modules/module.py:1025: UserWarning: Using a non-full backward hook when the forward contains multiple autograd Nodes is deprecated and will be removed in future versions. This hook will be missing some grad_input. Please use register_full_backward_hook to get the documented behavior.\n",
      "  warnings.warn(\"Using a non-full backward hook when the forward contains multiple autograd Nodes \"\n",
      "/data/users/goodarzilab/darya/anaconda3/envs/basenji_pytorch/lib/python3.9/site-packages/captum/attr/_core/deep_lift.py:452: UserWarning: An invalid module MaxPool1d(kernel_size=4, stride=4, padding=0, dilation=1, ceil_mode=False) is detected. Saved gradients will\n",
      "                be used as the gradients of the module's input tensor.\n",
      "                See MaxPool1d as an example.\n",
      "  warnings.warn(\n"
     ]
    }
   ],
   "source": [
    "dl = DeepLift(trainer.model)\n",
    "attribution = dl.attribute(X, baselines=X_shuffled.float(), target=1)"
   ]
  },
  {
   "cell_type": "code",
   "execution_count": 17,
   "id": "526f4675",
   "metadata": {},
   "outputs": [],
   "source": [
    "nucs = np.arange(4)\n",
    "inp_vals = X.cpu().detach().numpy()\n",
    "attr = attribution.cpu().detach().numpy()"
   ]
  },
  {
   "cell_type": "markdown",
   "id": "11187339",
   "metadata": {},
   "source": [
    "Then, for each minibatch, we collect the attribute values. They are grouped for each nucleotide, so it's the same thing as reversing one-hot encoding. "
   ]
  },
  {
   "cell_type": "code",
   "execution_count": 18,
   "id": "15ceb23b",
   "metadata": {},
   "outputs": [],
   "source": [
    "nucs_vals = np.zeros((inp_vals.shape[0], inp_vals.shape[-1]))\n",
    "attr_vals = np.zeros((inp_vals.shape[0], inp_vals.shape[-1]))\n",
    "\n",
    "\n",
    "for j in range(inp_vals.shape[0]):\n",
    "    for i in range(len(nucs)):\n",
    "        ids = np.where(inp_vals[j][i] == 1.)\n",
    "        nucs_vals[j][ids] = nucs[i]\n",
    "        for idx in ids: \n",
    "            attr_vals[j][idx] = attr[j][i][idx]"
   ]
  },
  {
   "cell_type": "markdown",
   "id": "e763a81b",
   "metadata": {},
   "source": [
    "Finally, we need to cross-reference the deeplift values with the actual locations of the motifs. "
   ]
  },
  {
   "cell_type": "code",
   "execution_count": 19,
   "id": "26b03f47",
   "metadata": {},
   "outputs": [],
   "source": [
    "import re\n",
    "motif_str = '202131'\n",
    "\n",
    "def return_ids(test_str, motif_str):\n",
    "    ind_found = np.hstack([[m.start() + i] for m in re.finditer(motif_str, test_str) for i in range(len(motif_str))])\n",
    "    return ind_found\n",
    "\n",
    "def get_motif_loc(seq):\n",
    "    seq_subset_str = \"\".join([str(int(s)) for s in seq])\n",
    "    test_empty = np.zeros(len(seq_subset_str))\n",
    "    ids = return_ids(seq_subset_str, motif_str)\n",
    "    test_empty[ids] = 1\n",
    "    return ids, test_empty\n",
    "\n",
    "def get_true_targets(labels_again):\n",
    "    ids, test_empty = get_motif_loc(labels_again)\n",
    "    rand_ids = ids[0::6]\n",
    "    diff_ids = np.diff(rand_ids)\n",
    "    bins = np.arange(0, labels_again.shape[0], 128)\n",
    "    # bin_indices = np.digitize(rand_ids[np.where(diff_ids >= 180)[0]], bins) #rand_ids[diff_ids_range], bins)\n",
    "    bin_indices = np.digitize(rand_ids[np.where(diff_ids >= 160)], bins) #rand_ids[diff_ids_range], bins)\n",
    "    targets = torch.zeros(len(bins))\n",
    "    targets[bin_indices] = 1\n",
    "    return targets, rand_ids[np.where(diff_ids >= 160)]"
   ]
  },
  {
   "cell_type": "code",
   "execution_count": 20,
   "id": "fd647449",
   "metadata": {},
   "outputs": [],
   "source": [
    "targets = get_true_targets(X_ints)[-1]"
   ]
  },
  {
   "cell_type": "code",
   "execution_count": 21,
   "id": "4f70cfa0",
   "metadata": {},
   "outputs": [],
   "source": [
    "targets_empty = torch.zeros(X_ints.shape)\n",
    "targets_empty[targets] = 1."
   ]
  },
  {
   "cell_type": "code",
   "execution_count": 22,
   "id": "7a98cdca",
   "metadata": {},
   "outputs": [
    {
     "data": {
      "image/png": "[encoded data removed]",
      "text/plain": [
       "<Figure size 432x288 with 1 Axes>"
      ]
     },
     "metadata": {
      "needs_background": "light"
     },
     "output_type": "display_data"
    }
   ],
   "source": [
    "plt.plot(np.arange(len(attr_vals[0])-10000), np.abs(attr_vals[0][10000:]), alpha=0.5)\n",
    "plt.plot(np.arange(len(attr_vals[0])-10000), 2*targets_empty[10000:]/(10**2), alpha=0.5, color='r')\n",
    "plt.show()"
   ]
  },
  {
   "cell_type": "markdown",
   "id": "7a26ed58",
   "metadata": {},
   "source": [
    "### Mutagenesis Analysis"
   ]
  },
  {
   "cell_type": "code",
   "execution_count": 23,
   "id": "b93e9df6",
   "metadata": {},
   "outputs": [],
   "source": [
    "X_ints_copy = deepcopy(X_ints)#.cpu()"
   ]
  },
  {
   "cell_type": "code",
   "execution_count": 24,
   "id": "d850687a",
   "metadata": {},
   "outputs": [],
   "source": [
    "ids, test_empty = get_motif_loc(X_ints)"
   ]
  },
  {
   "cell_type": "code",
   "execution_count": 25,
   "id": "8580e484",
   "metadata": {},
   "outputs": [],
   "source": [
    "num_ids = int(ids.shape[0] / 6)\n",
    "ids_groups = torch.tensor(np.array(np.split(ids, num_ids))).cuda()"
   ]
  },
  {
   "cell_type": "code",
   "execution_count": null,
   "id": "1f79cec5",
   "metadata": {
    "scrolled": true
   },
   "outputs": [],
   "source": [
    "preds_modified_lst, new_ids_lst = [], []\n",
    "for i in range(num_ids):\n",
    "    print (i)\n",
    "    repl_tensor = torch.tensor([np.random.choice(np.arange(4)) for i in range(len(motif_str))]).cuda()\n",
    "    X_ints_copy = X_ints_copy.index_copy_(0, ids_groups[i], repl_tensor)\n",
    "    new_ids = get_true_targets(X_ints_copy)[-1]\n",
    "    X_modified = torch.transpose(F.one_hot(X_ints_copy), 1, 0).unsqueeze(0).type(torch.FloatTensor).cuda()\n",
    "    with torch.no_grad():\n",
    "        preds_modified = torch.sigmoid(trainer.model(X_modified)).round().flatten()#.detach().numpy()\n",
    "    preds_modified_lst.append(preds_modified)\n",
    "    new_ids_lst.append(new_ids)\n",
    "preds_modified_lst = torch.stack(preds_modified_lst)"
   ]
  },
  {
   "cell_type": "code",
   "execution_count": 27,
   "id": "9d732b59",
   "metadata": {},
   "outputs": [],
   "source": [
    "true_vals_ids = ids[0::6]"
   ]
  },
  {
   "cell_type": "code",
   "execution_count": 28,
   "id": "f55fce12",
   "metadata": {},
   "outputs": [],
   "source": [
    "# torch.save(true_vals_ids, 'true_vals_ids.pt')\n",
    "# torch.save(preds_modified_lst, 'preds_modified_lst.pt')\n",
    "# torch.save(new_ids_lst, 'new_ids_lst.pt')"
   ]
  },
  {
   "cell_type": "code",
   "execution_count": 37,
   "id": "99bfe7ff",
   "metadata": {},
   "outputs": [],
   "source": [
    "diff_ids = np.diff(true_vals_ids)\n",
    "bins = np.arange(0, 131072, 128)\n",
    "bin_indices = np.digitize(true_vals_ids, bins)\n",
    "bin_indices_preds = np.digitize(true_vals_ids[np.where(diff_ids >= 160)], bins) \n",
    "# preds_modified_lst = preds_modified_lst#.cpu().detach().numpy()"
   ]
  },
  {
   "cell_type": "code",
   "execution_count": 38,
   "id": "2b3309e9",
   "metadata": {},
   "outputs": [],
   "source": [
    "upd_ids, upd_ids_preds = [], []\n",
    "for i in range(len(new_ids_lst)):\n",
    "    bin_indices = np.digitize(new_ids_lst[i], bins)\n",
    "    upd_ids.append(bin_indices)\n",
    "    upd_ids_preds.append(np.where(preds_modified_lst[i])[0])"
   ]
  },
  {
   "cell_type": "code",
   "execution_count": 39,
   "id": "f9a954a0",
   "metadata": {},
   "outputs": [],
   "source": [
    "targets_all = []\n",
    "for i in range(len(upd_ids_preds)):\n",
    "    targets_empty = torch.zeros(1024)\n",
    "    targets_empty[upd_ids_preds[i]] = 1.\n",
    "    targets_all.append(targets_empty)\n",
    "targets_all = torch.stack(targets_all)"
   ]
  },
  {
   "cell_type": "code",
   "execution_count": 40,
   "id": "ce00d428",
   "metadata": {},
   "outputs": [],
   "source": [
    "targets_all_mean = torch.mean(targets_all, dim=0)\n",
    "targets_true = torch.zeros(1024)\n",
    "targets_true[bin_indices_preds] = 1."
   ]
  },
  {
   "cell_type": "code",
   "execution_count": 41,
   "id": "feec497e",
   "metadata": {},
   "outputs": [
    {
     "data": {
      "image/png": "[encoded data removed]",
      "text/plain": [
       "<Figure size 432x288 with 1 Axes>"
      ]
     },
     "metadata": {
      "needs_background": "light"
     },
     "output_type": "display_data"
    }
   ],
   "source": [
    "plt.plot(np.arange(1024), targets_all_mean, alpha=0.5)\n",
    "plt.plot(np.arange(1024), targets_true/10, alpha=0.5)\n",
    "\n",
    "plt.show()"
   ]
  }
 ],
 "metadata": {
  "kernelspec": {
   "display_name": "basenji_pytorch",
   "language": "python",
   "name": "basenji_pytorch"
  },
  "language_info": {
   "codemirror_mode": {
    "name": "ipython",
    "version": 3
   },
   "file_extension": ".py",
   "mimetype": "text/x-python",
   "name": "python",
   "nbconvert_exporter": "python",
   "pygments_lexer": "ipython3",
   "version": "3.9.7"
  }
 },
 "nbformat": 4,
 "nbformat_minor": 5
}
